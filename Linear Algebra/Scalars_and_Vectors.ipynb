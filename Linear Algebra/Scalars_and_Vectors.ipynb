{
  "nbformat": 4,
  "nbformat_minor": 0,
  "metadata": {
    "colab": {
      "name": "Scalars and Vectors.ipynb",
      "version": "0.3.2",
      "provenance": []
    },
    "kernelspec": {
      "name": "python3",
      "display_name": "Python 3"
    }
  },
  "cells": [
    {
      "metadata": {
        "id": "ghEQC8yphdax",
        "colab_type": "text"
      },
      "cell_type": "markdown",
      "source": [
        "A **scalar** is just a single number .\n",
        "\n",
        "A **vector** is an ordered array of numbers. Each element in the array is identifiable by it's index. The points in the array combine to give a particular location of the vector on an axis. The total number of points indicating it's dimension. Going ahead to Machine Learning, a vector is made up of a number of features such as a house vector will have features such as area, no.of bedrooms etc. These can be seen as different points along different axis in the coordinate system and together denote the house vector in space."
      ]
    },
    {
      "metadata": {
        "id": "IbFSA5dchamm",
        "colab_type": "code",
        "colab": {}
      },
      "cell_type": "code",
      "source": [
        "scalar = 4 #example of scalar"
      ],
      "execution_count": 0,
      "outputs": []
    },
    {
      "metadata": {
        "id": "h1Hvvce5inWJ",
        "colab_type": "code",
        "colab": {
          "base_uri": "https://localhost:8080/",
          "height": 34
        },
        "outputId": "5108e51f-9e56-4078-cad3-5d0c76f358ee"
      },
      "cell_type": "code",
      "source": [
        "import numpy as np\n",
        "vector  = np.array([1,2,34,59])\n",
        "vector"
      ],
      "execution_count": 3,
      "outputs": [
        {
          "output_type": "execute_result",
          "data": {
            "text/plain": [
              "array([ 1,  2, 34, 59])"
            ]
          },
          "metadata": {
            "tags": []
          },
          "execution_count": 3
        }
      ]
    },
    {
      "metadata": {
        "id": "IMuyZxF5i1cB",
        "colab_type": "text"
      },
      "cell_type": "markdown",
      "source": [
        "A **matrix** is a 2-D array so each element is identiﬁedby two indices instead of just one. Each matrix has a shape to denote it's dimensions.  A matrix can also be said as an array of vectors\n",
        "\n",
        "A **tensor** is difficult to visualize in the naked eye as a tensor as very high dimensions. In simple terms a tensor can be told as an array of matrices. They are used a lot in image processing as images especially colour images are a combination of matrices of different combinations of R,G,B"
      ]
    },
    {
      "metadata": {
        "id": "afr3ThGLlJvL",
        "colab_type": "code",
        "colab": {}
      },
      "cell_type": "code",
      "source": [
        "A = np.array([[1, 2], [3, 4], [5, 6]])"
      ],
      "execution_count": 0,
      "outputs": []
    },
    {
      "metadata": {
        "id": "jaK85OePlPqy",
        "colab_type": "text"
      },
      "cell_type": "markdown",
      "source": [
        "**Shape**\n",
        "\n",
        "The shape of an array (that is to say its dimensions) tells you the number of values for each dimension. For a 2-dimensional array it will give you the number of rows and the number of columns. Let’s find the shape of our preceding 2-dimensional array A. Since A is a Numpy array (it was created with the array() function) you can access its shape with:"
      ]
    },
    {
      "metadata": {
        "id": "fNrv4jhylW64",
        "colab_type": "code",
        "colab": {
          "base_uri": "https://localhost:8080/",
          "height": 34
        },
        "outputId": "f8da68bc-2fc4-4d9e-f0a1-63e689a52b0d"
      },
      "cell_type": "code",
      "source": [
        "A.shape,vector.shape"
      ],
      "execution_count": 8,
      "outputs": [
        {
          "output_type": "execute_result",
          "data": {
            "text/plain": [
              "((3, 2), (4,))"
            ]
          },
          "metadata": {
            "tags": []
          },
          "execution_count": 8
        }
      ]
    },
    {
      "metadata": {
        "id": "AUBZIxCml0NJ",
        "colab_type": "text"
      },
      "cell_type": "markdown",
      "source": [
        "# **Transposition**\n",
        "\n",
        "One important operation on matrices is thetranspose. The transpose of amatrix is the mirror image of the matrix across a diagonal line, called themaindiagonal, running down and to the right, starting from its upper left corner. Seeﬁgure 2.1 for a graphical depiction of this operation. We denote the transpose of a matrix A as \n",
        "\n",
        ">$A^T$\n",
        "\n",
        ">$(A^T)_{i,j}= A_{j,i}$"
      ]
    },
    {
      "metadata": {
        "id": "cRmjeWvpnODp",
        "colab_type": "code",
        "colab": {
          "base_uri": "https://localhost:8080/",
          "height": 34
        },
        "outputId": "ad4ba503-04a5-4ca4-d1b2-43325a12e4d8"
      },
      "cell_type": "code",
      "source": [
        "A.T.shape,A.shape"
      ],
      "execution_count": 13,
      "outputs": [
        {
          "output_type": "execute_result",
          "data": {
            "text/plain": [
              "((2, 3), (3, 2))"
            ]
          },
          "metadata": {
            "tags": []
          },
          "execution_count": 13
        }
      ]
    },
    {
      "metadata": {
        "id": "HqlUxRyTussx",
        "colab_type": "code",
        "colab": {
          "base_uri": "https://localhost:8080/",
          "height": 85
        },
        "outputId": "b73091c2-467c-4201-eb91-b1bcf8fee2d5"
      },
      "cell_type": "code",
      "source": [
        "A,A.T"
      ],
      "execution_count": 14,
      "outputs": [
        {
          "output_type": "execute_result",
          "data": {
            "text/plain": [
              "(array([[1, 2],\n",
              "        [3, 4],\n",
              "        [5, 6]]), array([[1, 3, 5],\n",
              "        [2, 4, 6]]))"
            ]
          },
          "metadata": {
            "tags": []
          },
          "execution_count": 14
        }
      ]
    },
    {
      "metadata": {
        "id": "yIfaaGcQvgxp",
        "colab_type": "code",
        "colab": {
          "base_uri": "https://localhost:8080/",
          "height": 68
        },
        "outputId": "d77bfe78-005b-4a2b-c950-ac5ebdca0dad"
      },
      "cell_type": "code",
      "source": [
        "#Addition of matrices\n",
        "B = np.array([[2, 5], [7, 4], [4, 3]])\n",
        "B"
      ],
      "execution_count": 15,
      "outputs": [
        {
          "output_type": "execute_result",
          "data": {
            "text/plain": [
              "array([[2, 5],\n",
              "       [7, 4],\n",
              "       [4, 3]])"
            ]
          },
          "metadata": {
            "tags": []
          },
          "execution_count": 15
        }
      ]
    },
    {
      "metadata": {
        "id": "q8ovzyGNvoGf",
        "colab_type": "code",
        "colab": {
          "base_uri": "https://localhost:8080/",
          "height": 68
        },
        "outputId": "896f5598-7aa2-4923-9f37-e3db6f4a4fe7"
      },
      "cell_type": "code",
      "source": [
        "C = A + B #  two matrices can only be added if they have the same shape\n",
        "C"
      ],
      "execution_count": 16,
      "outputs": [
        {
          "output_type": "execute_result",
          "data": {
            "text/plain": [
              "array([[ 3,  7],\n",
              "       [10,  8],\n",
              "       [ 9,  9]])"
            ]
          },
          "metadata": {
            "tags": []
          },
          "execution_count": 16
        }
      ]
    },
    {
      "metadata": {
        "id": "-zvLpeJpvx3K",
        "colab_type": "code",
        "colab": {
          "base_uri": "https://localhost:8080/",
          "height": 68
        },
        "outputId": "32edeb82-cf8e-4a53-97dc-e84438750f88"
      },
      "cell_type": "code",
      "source": [
        "#Add a scalar to a matrix. This means the scalar will be added to every element in the matrix\n",
        "D = C + 5\n",
        "D"
      ],
      "execution_count": 17,
      "outputs": [
        {
          "output_type": "execute_result",
          "data": {
            "text/plain": [
              "array([[ 8, 12],\n",
              "       [15, 13],\n",
              "       [14, 14]])"
            ]
          },
          "metadata": {
            "tags": []
          },
          "execution_count": 17
        }
      ]
    },
    {
      "metadata": {
        "id": "Mtj2fo4HwYkj",
        "colab_type": "text"
      },
      "cell_type": "markdown",
      "source": [
        "**Broadcasting**\n",
        "\n",
        "\n",
        "\n",
        "\n",
        "\\begin{bmatrix} A_{1,1} & A_{1,2} \\\\\\\\ A_{2,1} & A_{2,2} \\\\\\\\ A_{3,1} & A_{3,2} \\end{bmatrix}+ \\begin{bmatrix} B_{1,1} \\\\\\\\ B_{2,1} \\\\\\\\ B_{3,1} \\end{bmatrix}\n",
        "\n",
        "Gives\n",
        "\n",
        "\n",
        "\n",
        "\\begin{bmatrix} A_{1,1} & A_{1,2} \\\\\\\\ A_{2,1} & A_{2,2} \\\\\\\\ A_{3,1} & A_{3,2} \\end{bmatrix} + \\begin{bmatrix} B_{1,1} & B_{1,1} \\\\\\\\ B_{2,1} & B_{2,1} \\\\\\\\ B_{3,1} & B_{3,1} \\end{bmatrix}= \\begin{bmatrix} A_{1,1} + B_{1,1} & A_{1,2} + B_{1,1} \\\\\\\\ A_{2,1} + B_{2,1} & A_{2,2} + B_{2,1} \\\\\\\\ A_{3,1} + B_{3,1} & A_{3,2} + B_{3,1} \\end{bmatrix}"
      ]
    },
    {
      "metadata": {
        "id": "a_OIhw01wppR",
        "colab_type": "code",
        "colab": {
          "base_uri": "https://localhost:8080/",
          "height": 68
        },
        "outputId": "566d83ff-e5e1-4be5-ec54-0dc7e4dc171c"
      },
      "cell_type": "code",
      "source": [
        "A = np.array([[1, 2], [3, 4], [5, 6]])\n",
        "A"
      ],
      "execution_count": 18,
      "outputs": [
        {
          "output_type": "execute_result",
          "data": {
            "text/plain": [
              "array([[1, 2],\n",
              "       [3, 4],\n",
              "       [5, 6]])"
            ]
          },
          "metadata": {
            "tags": []
          },
          "execution_count": 18
        }
      ]
    },
    {
      "metadata": {
        "id": "bO3s3da4xIP2",
        "colab_type": "code",
        "colab": {
          "base_uri": "https://localhost:8080/",
          "height": 68
        },
        "outputId": "df7bc449-35a7-4406-ef1b-aeaa9d4b76a5"
      },
      "cell_type": "code",
      "source": [
        "B = np.array([[2], [4], [6]])\n",
        "B"
      ],
      "execution_count": 19,
      "outputs": [
        {
          "output_type": "execute_result",
          "data": {
            "text/plain": [
              "array([[2],\n",
              "       [4],\n",
              "       [6]])"
            ]
          },
          "metadata": {
            "tags": []
          },
          "execution_count": 19
        }
      ]
    },
    {
      "metadata": {
        "id": "abLRQS6yxRNF",
        "colab_type": "code",
        "colab": {
          "base_uri": "https://localhost:8080/",
          "height": 68
        },
        "outputId": "e943ebe8-bc3f-4b32-a966-0c6d8c576490"
      },
      "cell_type": "code",
      "source": [
        "# Broadcasting\n",
        "C=A+B\n",
        "C"
      ],
      "execution_count": 20,
      "outputs": [
        {
          "output_type": "execute_result",
          "data": {
            "text/plain": [
              "array([[ 3,  4],\n",
              "       [ 7,  8],\n",
              "       [11, 12]])"
            ]
          },
          "metadata": {
            "tags": []
          },
          "execution_count": 20
        }
      ]
    }
  ]
}