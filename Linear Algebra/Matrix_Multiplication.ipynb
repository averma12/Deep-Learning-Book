{
  "nbformat": 4,
  "nbformat_minor": 0,
  "metadata": {
    "colab": {
      "name": "Matrix Multiplication.ipynb",
      "version": "0.3.2",
      "provenance": []
    },
    "kernelspec": {
      "name": "python3",
      "display_name": "Python 3"
    }
  },
  "cells": [
    {
      "metadata": {
        "id": "IFMTw2Vhyg-6",
        "colab_type": "text"
      },
      "cell_type": "markdown",
      "source": [
        "Matrix Multiplication\n",
        "\n"
      ]
    },
    {
      "metadata": {
        "id": "B3J8zV45yv8r",
        "colab_type": "text"
      },
      "cell_type": "markdown",
      "source": [
        "\n",
        "One of the most important operations involving matrices is multiplication of twomatrices. The matrix product of matrices A and B is a third matrix C. Inorder for this product to be deﬁned,A must have the same number of columns as B has rows. If A is of shape m × n andB is of shape n × p, then Ci s of shape m × p. We can write the matrix product just by placing two or more matrices together, for example,\n",
        "\n",
        "**C = AB.**\n",
        "\n",
        ">$ C_{i,j} =\\sum_{k} A_{i,k}.B_{k,j} $\n",
        "\n",
        "The standard product of two matrices is called the element-wise product or the Hadamard product denoted by\n",
        "\n",
        ">$ C = A \\odot B$"
      ]
    },
    {
      "metadata": {
        "id": "e7d4PcOx1wwB",
        "colab_type": "text"
      },
      "cell_type": "markdown",
      "source": [
        "Multiplying a Matrix with a vector\n",
        "\n",
        "\n",
        "\\begin{align*} &\\begin{bmatrix} A_{1,1} & A_{1,2} \\\\\\\\ A_{2,1} & A_{2,2} \\\\\\\\ A_{3,1} & A_{3,2} \\end{bmatrix}\\times \\begin{bmatrix} B_{1,1} \\\\\\\\ B_{2,1} \\end{bmatrix}=\\\\\\\\ &\\begin{bmatrix} A_{1,1}B_{1,1} + A_{1,2}B_{2,1} \\\\\\\\ A_{2,1}B_{1,1} + A_{2,2}B_{2,1} \\\\\\\\ A_{3,1}B_{1,1} + A_{3,2}B_{2,1} \\end{bmatrix} \\end{align*}"
      ]
    },
    {
      "metadata": {
        "id": "l7VC_vrqye_I",
        "colab_type": "code",
        "colab": {
          "base_uri": "https://localhost:8080/",
          "height": 68
        },
        "outputId": "619b8046-1f16-45fd-c09d-1313f00322cf"
      },
      "cell_type": "code",
      "source": [
        "import numpy as np\n",
        "A = np.array([[1, 2], [3, 4], [5, 6]])\n",
        "A"
      ],
      "execution_count": 2,
      "outputs": [
        {
          "output_type": "execute_result",
          "data": {
            "text/plain": [
              "array([[1, 2],\n",
              "       [3, 4],\n",
              "       [5, 6]])"
            ]
          },
          "metadata": {
            "tags": []
          },
          "execution_count": 2
        }
      ]
    },
    {
      "metadata": {
        "id": "-WGR0-j53bX6",
        "colab_type": "code",
        "colab": {
          "base_uri": "https://localhost:8080/",
          "height": 51
        },
        "outputId": "7dfbcb2d-6dfd-4535-b681-0ae023165884"
      },
      "cell_type": "code",
      "source": [
        "B = np.array([[2], [4]])\n",
        "B"
      ],
      "execution_count": 3,
      "outputs": [
        {
          "output_type": "execute_result",
          "data": {
            "text/plain": [
              "array([[2],\n",
              "       [4]])"
            ]
          },
          "metadata": {
            "tags": []
          },
          "execution_count": 3
        }
      ]
    },
    {
      "metadata": {
        "id": "8q8tcj9y3h4q",
        "colab_type": "code",
        "colab": {
          "base_uri": "https://localhost:8080/",
          "height": 68
        },
        "outputId": "96b8a193-0252-4725-d9da-44b85f29f7f4"
      },
      "cell_type": "code",
      "source": [
        "C = np.dot(A, B)\n",
        "C"
      ],
      "execution_count": 4,
      "outputs": [
        {
          "output_type": "execute_result",
          "data": {
            "text/plain": [
              "array([[10],\n",
              "       [22],\n",
              "       [34]])"
            ]
          },
          "metadata": {
            "tags": []
          },
          "execution_count": 4
        }
      ]
    },
    {
      "metadata": {
        "id": "LToD5wdu3jZo",
        "colab_type": "code",
        "colab": {
          "base_uri": "https://localhost:8080/",
          "height": 85
        },
        "outputId": "8bdafafa-edba-4dc1-e499-9ee782165990"
      },
      "cell_type": "code",
      "source": [
        "A = np.array([[1, 2, 3], [4, 5, 6], [7, 8, 9], [10, 11, 12]])\n",
        "A"
      ],
      "execution_count": 7,
      "outputs": [
        {
          "output_type": "execute_result",
          "data": {
            "text/plain": [
              "array([[ 1,  2,  3],\n",
              "       [ 4,  5,  6],\n",
              "       [ 7,  8,  9],\n",
              "       [10, 11, 12]])"
            ]
          },
          "metadata": {
            "tags": []
          },
          "execution_count": 7
        }
      ]
    },
    {
      "metadata": {
        "id": "wdt32SRD36KE",
        "colab_type": "code",
        "colab": {
          "base_uri": "https://localhost:8080/",
          "height": 68
        },
        "outputId": "f62d37be-c650-481b-f44c-5e4b74899064"
      },
      "cell_type": "code",
      "source": [
        "B = np.array([[2, 7], [1, 2], [3, 6]])\n",
        "B"
      ],
      "execution_count": 8,
      "outputs": [
        {
          "output_type": "execute_result",
          "data": {
            "text/plain": [
              "array([[2, 7],\n",
              "       [1, 2],\n",
              "       [3, 6]])"
            ]
          },
          "metadata": {
            "tags": []
          },
          "execution_count": 8
        }
      ]
    },
    {
      "metadata": {
        "id": "eYNiI5Rw4eR3",
        "colab_type": "code",
        "colab": {
          "base_uri": "https://localhost:8080/",
          "height": 85
        },
        "outputId": "8c40e1e7-d8d0-4b1c-8b95-f8716ea14a3e"
      },
      "cell_type": "code",
      "source": [
        "A.dot(B)"
      ],
      "execution_count": 9,
      "outputs": [
        {
          "output_type": "execute_result",
          "data": {
            "text/plain": [
              "array([[ 13,  29],\n",
              "       [ 31,  74],\n",
              "       [ 49, 119],\n",
              "       [ 67, 164]])"
            ]
          },
          "metadata": {
            "tags": []
          },
          "execution_count": 9
        }
      ]
    },
    {
      "metadata": {
        "id": "8UX04aFU4qlM",
        "colab_type": "text"
      },
      "cell_type": "markdown",
      "source": [
        "**Matrices mutliplication is distributive**\n",
        ">$A(B+C)=AB+AC$\n",
        "\n",
        ">${A}=\\begin{bmatrix} 2 & 3 \\\\\\\\ 1 & 4 \\\\\\\\ 7 & 6 \\end{bmatrix}, {B}=\\begin{bmatrix} 5 \\\\\\\\ 2 \\end{bmatrix}, {C}=\\begin{bmatrix} 4 \\\\\\\\ 3 \\end{bmatrix}$\n",
        "\n",
        ">$\\begin{align*} {A}({B}+{C})&=\\begin{bmatrix} 2 & 3 \\\\\\\\ 1 & 4 \\\\\\\\ 7 & 6 \\end{bmatrix}\\times \\left(\\begin{bmatrix} 5 \\\\\\\\ 2 \\end{bmatrix}+ \\begin{bmatrix} 4 \\\\\\\\ 3 \\end{bmatrix}\\right)= \\begin{bmatrix} 2 & 3 \\\\\\\\ 1 & 4 \\\\\\\\ 7 & 6 \\end{bmatrix}\\times \\begin{bmatrix} 9 \\\\\\\\ 5 \\end{bmatrix}\\\\\\\\ &= \\begin{bmatrix} 2 \\times 9 + 3 \\times 5 \\\\\\\\ 1 \\times 9 + 4 \\times 5 \\\\\\\\ 7 \\times 9 + 6 \\times 5 \\end{bmatrix}= \\begin{bmatrix} 33 \\\\\\\\ 29 \\\\\\\\ 93 \\end{bmatrix} \\end{align*}$\n",
        "\n",
        "\n",
        "\n",
        ">$\\begin{align*} {A}{B}+{A}{C} &= \\begin{bmatrix} 2 & 3 \\\\\\\\ 1 & 4 \\\\\\\\ 7 & 6 \\end{bmatrix}\\times \\begin{bmatrix} 5 \\\\\\\\ 2 \\end{bmatrix}+ \\begin{bmatrix} 2 & 3 \\\\\\\\ 1 & 4 \\\\\\\\ 7 & 6 \\end{bmatrix}\\times \\begin{bmatrix} 4 \\\\\\\\ 3 \\end{bmatrix}\\\\\\\\ &= \\begin{bmatrix} 2 \\times 5 + 3 \\times 2 \\\\\\\\ 1 \\times 5 + 4 \\times 2 \\\\\\\\ 7 \\times 5 + 6 \\times 2 \\end{bmatrix}+ \\begin{bmatrix} 2 \\times 4 + 3 \\times 3 \\\\\\\\ 1 \\times 4 + 4 \\times 3 \\\\\\\\ 7 \\times 4 + 6 \\times 3 \\end{bmatrix}\\\\\\\\ &= \\begin{bmatrix} 16 \\\\\\\\ 13 \\\\\\\\ 47 \\end{bmatrix}+ \\begin{bmatrix} 17 \\\\\\\\ 16 \\\\\\\\ 46 \\end{bmatrix}= \\begin{bmatrix} 33 \\\\\\\\ 29 \\\\\\\\ 93 \\end{bmatrix} \\end{align*}$"
      ]
    },
    {
      "metadata": {
        "id": "QELPSC5Y5oq-",
        "colab_type": "code",
        "colab": {
          "base_uri": "https://localhost:8080/",
          "height": 68
        },
        "outputId": "df8f5140-e836-44e0-e41b-d1c4a067d56a"
      },
      "cell_type": "code",
      "source": [
        "A = np.array([[2, 3], [1, 4], [7, 6]])\n",
        "A"
      ],
      "execution_count": 10,
      "outputs": [
        {
          "output_type": "execute_result",
          "data": {
            "text/plain": [
              "array([[2, 3],\n",
              "       [1, 4],\n",
              "       [7, 6]])"
            ]
          },
          "metadata": {
            "tags": []
          },
          "execution_count": 10
        }
      ]
    },
    {
      "metadata": {
        "id": "1ZfPT0GR5wpw",
        "colab_type": "code",
        "colab": {
          "base_uri": "https://localhost:8080/",
          "height": 51
        },
        "outputId": "5f7bf06d-f6bd-47ff-d80e-6ea0f856903c"
      },
      "cell_type": "code",
      "source": [
        "B = np.array([[5], [2]])\n",
        "B"
      ],
      "execution_count": 11,
      "outputs": [
        {
          "output_type": "execute_result",
          "data": {
            "text/plain": [
              "array([[5],\n",
              "       [2]])"
            ]
          },
          "metadata": {
            "tags": []
          },
          "execution_count": 11
        }
      ]
    },
    {
      "metadata": {
        "id": "iN3Al73B5zqF",
        "colab_type": "code",
        "colab": {
          "base_uri": "https://localhost:8080/",
          "height": 51
        },
        "outputId": "14d4d66b-72e8-4c11-b451-bfa6a1884b1d"
      },
      "cell_type": "code",
      "source": [
        "C = np.array([[4], [3]])\n",
        "C"
      ],
      "execution_count": 12,
      "outputs": [
        {
          "output_type": "execute_result",
          "data": {
            "text/plain": [
              "array([[4],\n",
              "       [3]])"
            ]
          },
          "metadata": {
            "tags": []
          },
          "execution_count": 12
        }
      ]
    },
    {
      "metadata": {
        "id": "0WjMIcio54Gj",
        "colab_type": "code",
        "colab": {
          "base_uri": "https://localhost:8080/",
          "height": 68
        },
        "outputId": "abe6631c-fb74-4c7a-88d0-b3a5140f1c65"
      },
      "cell_type": "code",
      "source": [
        "D = A.dot(B+C)\n",
        "D"
      ],
      "execution_count": 13,
      "outputs": [
        {
          "output_type": "execute_result",
          "data": {
            "text/plain": [
              "array([[33],\n",
              "       [29],\n",
              "       [93]])"
            ]
          },
          "metadata": {
            "tags": []
          },
          "execution_count": 13
        }
      ]
    },
    {
      "metadata": {
        "id": "ecFL6eSI57Ec",
        "colab_type": "code",
        "colab": {
          "base_uri": "https://localhost:8080/",
          "height": 68
        },
        "outputId": "fe35b35a-f350-4f22-8596-99fe3ed03f56"
      },
      "cell_type": "code",
      "source": [
        "D = A.dot(B) + A.dot(C)\n",
        "D"
      ],
      "execution_count": 14,
      "outputs": [
        {
          "output_type": "execute_result",
          "data": {
            "text/plain": [
              "array([[33],\n",
              "       [29],\n",
              "       [93]])"
            ]
          },
          "metadata": {
            "tags": []
          },
          "execution_count": 14
        }
      ]
    },
    {
      "metadata": {
        "id": "Poy57lGS6Dkj",
        "colab_type": "text"
      },
      "cell_type": "markdown",
      "source": [
        "**Matrices mutliplication is associative**\n",
        "\n",
        "\n",
        ">$A(BC)=(AB)C$"
      ]
    },
    {
      "metadata": {
        "id": "0EUr3a2G6JtI",
        "colab_type": "code",
        "colab": {
          "base_uri": "https://localhost:8080/",
          "height": 68
        },
        "outputId": "2cfd3b16-ac8e-4854-90c3-9c499ee268b5"
      },
      "cell_type": "code",
      "source": [
        "A = np.array([[2, 3], [1, 4], [7, 6]])\n",
        "A"
      ],
      "execution_count": 15,
      "outputs": [
        {
          "output_type": "execute_result",
          "data": {
            "text/plain": [
              "array([[2, 3],\n",
              "       [1, 4],\n",
              "       [7, 6]])"
            ]
          },
          "metadata": {
            "tags": []
          },
          "execution_count": 15
        }
      ]
    },
    {
      "metadata": {
        "id": "HDUehf_56PcB",
        "colab_type": "code",
        "colab": {
          "base_uri": "https://localhost:8080/",
          "height": 51
        },
        "outputId": "d62afe5b-b541-49f5-e104-7b5396c99ed6"
      },
      "cell_type": "code",
      "source": [
        "B = np.array([[5, 3], [2, 2]])\n",
        "B"
      ],
      "execution_count": 16,
      "outputs": [
        {
          "output_type": "execute_result",
          "data": {
            "text/plain": [
              "array([[5, 3],\n",
              "       [2, 2]])"
            ]
          },
          "metadata": {
            "tags": []
          },
          "execution_count": 16
        }
      ]
    },
    {
      "metadata": {
        "id": "FUtGJQjj6US1",
        "colab_type": "code",
        "colab": {
          "base_uri": "https://localhost:8080/",
          "height": 68
        },
        "outputId": "19a37ac8-c521-48ea-e456-7da7c352d2cd"
      },
      "cell_type": "code",
      "source": [
        "D = A.dot(B.dot(C))\n",
        "D"
      ],
      "execution_count": 17,
      "outputs": [
        {
          "output_type": "execute_result",
          "data": {
            "text/plain": [
              "array([[100],\n",
              "       [ 85],\n",
              "       [287]])"
            ]
          },
          "metadata": {
            "tags": []
          },
          "execution_count": 17
        }
      ]
    },
    {
      "metadata": {
        "id": "Z3_FmgX26VvE",
        "colab_type": "code",
        "colab": {
          "base_uri": "https://localhost:8080/",
          "height": 68
        },
        "outputId": "d718bb66-1b10-4b0b-9823-6347b7e7d673"
      },
      "cell_type": "code",
      "source": [
        "D = (A.dot(B)).dot(C)\n",
        "D"
      ],
      "execution_count": 18,
      "outputs": [
        {
          "output_type": "execute_result",
          "data": {
            "text/plain": [
              "array([[100],\n",
              "       [ 85],\n",
              "       [287]])"
            ]
          },
          "metadata": {
            "tags": []
          },
          "execution_count": 18
        }
      ]
    },
    {
      "metadata": {
        "id": "pI355UYq6iZo",
        "colab_type": "text"
      },
      "cell_type": "markdown",
      "source": [
        "**Matrix multiplication is not commutative**\n",
        "\n",
        ">$AB≠BA$"
      ]
    },
    {
      "metadata": {
        "id": "YiQ_RC6q6n73",
        "colab_type": "code",
        "colab": {
          "base_uri": "https://localhost:8080/",
          "height": 51
        },
        "outputId": "b4cbe6f2-d6fe-4b0a-b6a8-50083bfee165"
      },
      "cell_type": "code",
      "source": [
        "A = np.array([[2, 3], [6, 5]])\n",
        "A"
      ],
      "execution_count": 19,
      "outputs": [
        {
          "output_type": "execute_result",
          "data": {
            "text/plain": [
              "array([[2, 3],\n",
              "       [6, 5]])"
            ]
          },
          "metadata": {
            "tags": []
          },
          "execution_count": 19
        }
      ]
    },
    {
      "metadata": {
        "id": "SDEr_j7b6uuj",
        "colab_type": "code",
        "colab": {
          "base_uri": "https://localhost:8080/",
          "height": 51
        },
        "outputId": "9b2c85a1-a18e-427f-ec6d-d0465c3c75d1"
      },
      "cell_type": "code",
      "source": [
        "B = np.array([[5, 3], [2, 2]])\n",
        "B"
      ],
      "execution_count": 20,
      "outputs": [
        {
          "output_type": "execute_result",
          "data": {
            "text/plain": [
              "array([[5, 3],\n",
              "       [2, 2]])"
            ]
          },
          "metadata": {
            "tags": []
          },
          "execution_count": 20
        }
      ]
    },
    {
      "metadata": {
        "id": "dYNdj2rQ6wD6",
        "colab_type": "code",
        "colab": {
          "base_uri": "https://localhost:8080/",
          "height": 51
        },
        "outputId": "4e72f17c-8a49-4670-ad81-95e486247158"
      },
      "cell_type": "code",
      "source": [
        "AB = np.dot(A, B)\n",
        "AB"
      ],
      "execution_count": 21,
      "outputs": [
        {
          "output_type": "execute_result",
          "data": {
            "text/plain": [
              "array([[16, 12],\n",
              "       [40, 28]])"
            ]
          },
          "metadata": {
            "tags": []
          },
          "execution_count": 21
        }
      ]
    },
    {
      "metadata": {
        "id": "NZNA6NmA6zef",
        "colab_type": "code",
        "colab": {
          "base_uri": "https://localhost:8080/",
          "height": 51
        },
        "outputId": "2793f860-07db-41cb-8bca-7dc6d6298ec4"
      },
      "cell_type": "code",
      "source": [
        "BA = np.dot(B,A) #compare with above they are not the same\n",
        "BA"
      ],
      "execution_count": 23,
      "outputs": [
        {
          "output_type": "execute_result",
          "data": {
            "text/plain": [
              "array([[28, 30],\n",
              "       [16, 16]])"
            ]
          },
          "metadata": {
            "tags": []
          },
          "execution_count": 23
        }
      ]
    },
    {
      "metadata": {
        "id": "SnCppC7-7ARa",
        "colab_type": "text"
      },
      "cell_type": "markdown",
      "source": [
        "**However vector products are commutative**\n",
        ">$x^Ty = y^Tx$\n",
        "\n",
        "\n",
        "**Simplification of the matrix product**\n",
        ">$(AB)^T = B^TA^T$\n"
      ]
    },
    {
      "metadata": {
        "id": "CX9Xyq-87x6S",
        "colab_type": "text"
      },
      "cell_type": "markdown",
      "source": [
        "**Linear System of Equations**\n",
        "\n",
        "A vector is a point in space. But that point cannot travel along the space by linearly just by adding a scalar as a vector is a point along many axis. A matrix is used to transform a vector and also to move a vector from one place to another place. A matrix can also be represented as a linear system of equations\n",
        "\n",
        "\\begin{cases} y = 2x + 1 \\\\\\\\ y = \\frac{7}{2}x +3 \\end{cases}"
      ]
    },
    {
      "metadata": {
        "id": "OHRv1pVK8quO",
        "colab_type": "text"
      },
      "cell_type": "markdown",
      "source": [
        ">$A_{1,1}x_1 + A_{1,2}x_2 + A_{1,n}x_n = b_1 \\\\\\\\ A_{2,1}x_1 + A_{2,2}x_2 + A_{2,n}x_n = b_2 \\\\\\\\ \\cdots \\\\\\\\ A_{m,1}x_1 + A_{m,2}x_2 + A_{m,n}x_n = b_n$\n",
        "\n",
        "\n",
        "Matrices used to describe an equation \n",
        ">$Ax = b$"
      ]
    },
    {
      "metadata": {
        "id": "8nJtA7hG7gf9",
        "colab_type": "code",
        "colab": {}
      },
      "cell_type": "code",
      "source": [
        ""
      ],
      "execution_count": 0,
      "outputs": []
    }
  ]
}